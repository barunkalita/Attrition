{
 "cells": [
  {
   "cell_type": "code",
   "execution_count": 52,
   "metadata": {},
   "outputs": [],
   "source": [
    "# Attrition prediction and determining the best model based on confidence score"
   ]
  },
  {
   "cell_type": "code",
   "execution_count": null,
   "metadata": {},
   "outputs": [],
   "source": [
    "# importing modules for data preprocessing and analysis\n",
    "import numpy as np\n",
    "import pandas as pd\n",
    "import seaborn as sns\n",
    "import matplotlib.pyplot as plt\n",
    "%matplotlib inline "
   ]
  },
  {
   "cell_type": "code",
   "execution_count": 2,
   "metadata": {},
   "outputs": [],
   "source": [
    "# importing modules for machine learning"
   ]
  },
  {
   "cell_type": "code",
   "execution_count": 42,
   "metadata": {},
   "outputs": [],
   "source": [
    "from sklearn.tree import DecisionTreeClassifier\n",
    "from sklearn.neighbors import KNeighborsClassifier\n",
    "from sklearn.linear_model import LogisticRegression\n",
    "from sklearn.naive_bayes import GaussianNB\n",
    "from sklearn.preprocessing import LabelEncoder,OneHotEncoder"
   ]
  },
  {
   "cell_type": "code",
   "execution_count": 4,
   "metadata": {},
   "outputs": [],
   "source": [
    "# reading data"
   ]
  },
  {
   "cell_type": "code",
   "execution_count": 5,
   "metadata": {},
   "outputs": [],
   "source": [
    "training_data = pd.read_csv('train_data.csv')"
   ]
  },
  {
   "cell_type": "code",
   "execution_count": 6,
   "metadata": {},
   "outputs": [
    {
     "data": {
      "text/html": [
       "<div>\n",
       "<style scoped>\n",
       "    .dataframe tbody tr th:only-of-type {\n",
       "        vertical-align: middle;\n",
       "    }\n",
       "\n",
       "    .dataframe tbody tr th {\n",
       "        vertical-align: top;\n",
       "    }\n",
       "\n",
       "    .dataframe thead th {\n",
       "        text-align: right;\n",
       "    }\n",
       "</style>\n",
       "<table border=\"1\" class=\"dataframe\">\n",
       "  <thead>\n",
       "    <tr style=\"text-align: right;\">\n",
       "      <th></th>\n",
       "      <th>Unnamed: 0</th>\n",
       "      <th>Age</th>\n",
       "      <th>BusinessTravel</th>\n",
       "      <th>Department</th>\n",
       "      <th>DistanceFromHome</th>\n",
       "      <th>Education</th>\n",
       "      <th>EducationField</th>\n",
       "      <th>Gender</th>\n",
       "      <th>JobRole</th>\n",
       "      <th>MaritalStatus</th>\n",
       "      <th>...</th>\n",
       "      <th>NumCompaniesWorked</th>\n",
       "      <th>PercentSalaryHike</th>\n",
       "      <th>StandardHours</th>\n",
       "      <th>StockOptionLevel</th>\n",
       "      <th>TotalWorkingYears</th>\n",
       "      <th>TrainingTimesLastYear</th>\n",
       "      <th>YearsAtCompany</th>\n",
       "      <th>YearsSinceLastPromotion</th>\n",
       "      <th>YearsWithCurrManager</th>\n",
       "      <th>Attrition</th>\n",
       "    </tr>\n",
       "  </thead>\n",
       "  <tbody>\n",
       "    <tr>\n",
       "      <th>0</th>\n",
       "      <td>0</td>\n",
       "      <td>40</td>\n",
       "      <td>Travel_Rarely</td>\n",
       "      <td>Research &amp; Development</td>\n",
       "      <td>2</td>\n",
       "      <td>3</td>\n",
       "      <td>Medical</td>\n",
       "      <td>Male</td>\n",
       "      <td>Research Director</td>\n",
       "      <td>Single</td>\n",
       "      <td>...</td>\n",
       "      <td>3.0</td>\n",
       "      <td>15</td>\n",
       "      <td>8</td>\n",
       "      <td>1</td>\n",
       "      <td>15.0</td>\n",
       "      <td>3</td>\n",
       "      <td>5</td>\n",
       "      <td>1</td>\n",
       "      <td>0</td>\n",
       "      <td>1</td>\n",
       "    </tr>\n",
       "    <tr>\n",
       "      <th>1</th>\n",
       "      <td>1</td>\n",
       "      <td>31</td>\n",
       "      <td>Travel_Rarely</td>\n",
       "      <td>Research &amp; Development</td>\n",
       "      <td>28</td>\n",
       "      <td>4</td>\n",
       "      <td>Technical Degree</td>\n",
       "      <td>Female</td>\n",
       "      <td>Sales Executive</td>\n",
       "      <td>Married</td>\n",
       "      <td>...</td>\n",
       "      <td>1.0</td>\n",
       "      <td>11</td>\n",
       "      <td>8</td>\n",
       "      <td>0</td>\n",
       "      <td>10.0</td>\n",
       "      <td>4</td>\n",
       "      <td>10</td>\n",
       "      <td>0</td>\n",
       "      <td>2</td>\n",
       "      <td>0</td>\n",
       "    </tr>\n",
       "    <tr>\n",
       "      <th>2</th>\n",
       "      <td>2</td>\n",
       "      <td>35</td>\n",
       "      <td>Travel_Frequently</td>\n",
       "      <td>Research &amp; Development</td>\n",
       "      <td>3</td>\n",
       "      <td>3</td>\n",
       "      <td>Medical</td>\n",
       "      <td>Female</td>\n",
       "      <td>Laboratory Technician</td>\n",
       "      <td>Married</td>\n",
       "      <td>...</td>\n",
       "      <td>1.0</td>\n",
       "      <td>11</td>\n",
       "      <td>8</td>\n",
       "      <td>1</td>\n",
       "      <td>2.0</td>\n",
       "      <td>2</td>\n",
       "      <td>2</td>\n",
       "      <td>2</td>\n",
       "      <td>2</td>\n",
       "      <td>0</td>\n",
       "    </tr>\n",
       "  </tbody>\n",
       "</table>\n",
       "<p>3 rows × 21 columns</p>\n",
       "</div>"
      ],
      "text/plain": [
       "   Unnamed: 0  Age     BusinessTravel              Department  \\\n",
       "0           0   40      Travel_Rarely  Research & Development   \n",
       "1           1   31      Travel_Rarely  Research & Development   \n",
       "2           2   35  Travel_Frequently  Research & Development   \n",
       "\n",
       "   DistanceFromHome  Education    EducationField  Gender  \\\n",
       "0                 2          3           Medical    Male   \n",
       "1                28          4  Technical Degree  Female   \n",
       "2                 3          3           Medical  Female   \n",
       "\n",
       "                 JobRole MaritalStatus    ...      NumCompaniesWorked  \\\n",
       "0      Research Director        Single    ...                     3.0   \n",
       "1        Sales Executive       Married    ...                     1.0   \n",
       "2  Laboratory Technician       Married    ...                     1.0   \n",
       "\n",
       "   PercentSalaryHike  StandardHours  StockOptionLevel  TotalWorkingYears  \\\n",
       "0                 15              8                 1               15.0   \n",
       "1                 11              8                 0               10.0   \n",
       "2                 11              8                 1                2.0   \n",
       "\n",
       "   TrainingTimesLastYear  YearsAtCompany  YearsSinceLastPromotion  \\\n",
       "0                      3               5                        1   \n",
       "1                      4              10                        0   \n",
       "2                      2               2                        2   \n",
       "\n",
       "   YearsWithCurrManager  Attrition  \n",
       "0                     0          1  \n",
       "1                     2          0  \n",
       "2                     2          0  \n",
       "\n",
       "[3 rows x 21 columns]"
      ]
     },
     "execution_count": 6,
     "metadata": {},
     "output_type": "execute_result"
    }
   ],
   "source": [
    "training_data.head(3)"
   ]
  },
  {
   "cell_type": "code",
   "execution_count": 7,
   "metadata": {},
   "outputs": [
    {
     "data": {
      "text/html": [
       "<div>\n",
       "<style scoped>\n",
       "    .dataframe tbody tr th:only-of-type {\n",
       "        vertical-align: middle;\n",
       "    }\n",
       "\n",
       "    .dataframe tbody tr th {\n",
       "        vertical-align: top;\n",
       "    }\n",
       "\n",
       "    .dataframe thead th {\n",
       "        text-align: right;\n",
       "    }\n",
       "</style>\n",
       "<table border=\"1\" class=\"dataframe\">\n",
       "  <thead>\n",
       "    <tr style=\"text-align: right;\">\n",
       "      <th></th>\n",
       "      <th>count</th>\n",
       "      <th>mean</th>\n",
       "      <th>std</th>\n",
       "      <th>min</th>\n",
       "      <th>25%</th>\n",
       "      <th>50%</th>\n",
       "      <th>75%</th>\n",
       "      <th>max</th>\n",
       "    </tr>\n",
       "  </thead>\n",
       "  <tbody>\n",
       "    <tr>\n",
       "      <th>Age</th>\n",
       "      <td>2205.0</td>\n",
       "      <td>36.669841</td>\n",
       "      <td>9.078445</td>\n",
       "      <td>18.0</td>\n",
       "      <td>30.0</td>\n",
       "      <td>35.0</td>\n",
       "      <td>42.0</td>\n",
       "      <td>60.0</td>\n",
       "    </tr>\n",
       "    <tr>\n",
       "      <th>DistanceFromHome</th>\n",
       "      <td>2205.0</td>\n",
       "      <td>9.409524</td>\n",
       "      <td>8.134342</td>\n",
       "      <td>1.0</td>\n",
       "      <td>2.0</td>\n",
       "      <td>7.0</td>\n",
       "      <td>15.0</td>\n",
       "      <td>29.0</td>\n",
       "    </tr>\n",
       "    <tr>\n",
       "      <th>Education</th>\n",
       "      <td>2205.0</td>\n",
       "      <td>2.895692</td>\n",
       "      <td>1.046125</td>\n",
       "      <td>1.0</td>\n",
       "      <td>2.0</td>\n",
       "      <td>3.0</td>\n",
       "      <td>4.0</td>\n",
       "      <td>5.0</td>\n",
       "    </tr>\n",
       "    <tr>\n",
       "      <th>MonthlyIncome</th>\n",
       "      <td>2205.0</td>\n",
       "      <td>65151.972789</td>\n",
       "      <td>47711.864224</td>\n",
       "      <td>10510.0</td>\n",
       "      <td>28750.0</td>\n",
       "      <td>48770.0</td>\n",
       "      <td>83460.0</td>\n",
       "      <td>199990.0</td>\n",
       "    </tr>\n",
       "    <tr>\n",
       "      <th>NumCompaniesWorked</th>\n",
       "      <td>2194.0</td>\n",
       "      <td>2.648587</td>\n",
       "      <td>2.490846</td>\n",
       "      <td>0.0</td>\n",
       "      <td>1.0</td>\n",
       "      <td>2.0</td>\n",
       "      <td>4.0</td>\n",
       "      <td>9.0</td>\n",
       "    </tr>\n",
       "    <tr>\n",
       "      <th>PercentSalaryHike</th>\n",
       "      <td>2205.0</td>\n",
       "      <td>15.209524</td>\n",
       "      <td>3.638322</td>\n",
       "      <td>11.0</td>\n",
       "      <td>12.0</td>\n",
       "      <td>14.0</td>\n",
       "      <td>18.0</td>\n",
       "      <td>25.0</td>\n",
       "    </tr>\n",
       "    <tr>\n",
       "      <th>StandardHours</th>\n",
       "      <td>2205.0</td>\n",
       "      <td>8.000000</td>\n",
       "      <td>0.000000</td>\n",
       "      <td>8.0</td>\n",
       "      <td>8.0</td>\n",
       "      <td>8.0</td>\n",
       "      <td>8.0</td>\n",
       "      <td>8.0</td>\n",
       "    </tr>\n",
       "    <tr>\n",
       "      <th>StockOptionLevel</th>\n",
       "      <td>2205.0</td>\n",
       "      <td>0.822222</td>\n",
       "      <td>0.874708</td>\n",
       "      <td>0.0</td>\n",
       "      <td>0.0</td>\n",
       "      <td>1.0</td>\n",
       "      <td>1.0</td>\n",
       "      <td>3.0</td>\n",
       "    </tr>\n",
       "    <tr>\n",
       "      <th>TotalWorkingYears</th>\n",
       "      <td>2199.0</td>\n",
       "      <td>11.224193</td>\n",
       "      <td>7.896927</td>\n",
       "      <td>0.0</td>\n",
       "      <td>6.0</td>\n",
       "      <td>10.0</td>\n",
       "      <td>15.0</td>\n",
       "      <td>40.0</td>\n",
       "    </tr>\n",
       "    <tr>\n",
       "      <th>TrainingTimesLastYear</th>\n",
       "      <td>2205.0</td>\n",
       "      <td>2.798186</td>\n",
       "      <td>1.313616</td>\n",
       "      <td>0.0</td>\n",
       "      <td>2.0</td>\n",
       "      <td>3.0</td>\n",
       "      <td>3.0</td>\n",
       "      <td>6.0</td>\n",
       "    </tr>\n",
       "    <tr>\n",
       "      <th>YearsAtCompany</th>\n",
       "      <td>2205.0</td>\n",
       "      <td>7.078005</td>\n",
       "      <td>6.258446</td>\n",
       "      <td>0.0</td>\n",
       "      <td>3.0</td>\n",
       "      <td>5.0</td>\n",
       "      <td>10.0</td>\n",
       "      <td>40.0</td>\n",
       "    </tr>\n",
       "    <tr>\n",
       "      <th>YearsSinceLastPromotion</th>\n",
       "      <td>2205.0</td>\n",
       "      <td>2.225397</td>\n",
       "      <td>3.312585</td>\n",
       "      <td>0.0</td>\n",
       "      <td>0.0</td>\n",
       "      <td>1.0</td>\n",
       "      <td>3.0</td>\n",
       "      <td>15.0</td>\n",
       "    </tr>\n",
       "    <tr>\n",
       "      <th>YearsWithCurrManager</th>\n",
       "      <td>2205.0</td>\n",
       "      <td>4.156463</td>\n",
       "      <td>3.606622</td>\n",
       "      <td>0.0</td>\n",
       "      <td>2.0</td>\n",
       "      <td>3.0</td>\n",
       "      <td>7.0</td>\n",
       "      <td>17.0</td>\n",
       "    </tr>\n",
       "    <tr>\n",
       "      <th>Attrition</th>\n",
       "      <td>2205.0</td>\n",
       "      <td>0.161451</td>\n",
       "      <td>0.368030</td>\n",
       "      <td>0.0</td>\n",
       "      <td>0.0</td>\n",
       "      <td>0.0</td>\n",
       "      <td>0.0</td>\n",
       "      <td>1.0</td>\n",
       "    </tr>\n",
       "  </tbody>\n",
       "</table>\n",
       "</div>"
      ],
      "text/plain": [
       "                          count          mean           std      min      25%  \\\n",
       "Age                      2205.0     36.669841      9.078445     18.0     30.0   \n",
       "DistanceFromHome         2205.0      9.409524      8.134342      1.0      2.0   \n",
       "Education                2205.0      2.895692      1.046125      1.0      2.0   \n",
       "MonthlyIncome            2205.0  65151.972789  47711.864224  10510.0  28750.0   \n",
       "NumCompaniesWorked       2194.0      2.648587      2.490846      0.0      1.0   \n",
       "PercentSalaryHike        2205.0     15.209524      3.638322     11.0     12.0   \n",
       "StandardHours            2205.0      8.000000      0.000000      8.0      8.0   \n",
       "StockOptionLevel         2205.0      0.822222      0.874708      0.0      0.0   \n",
       "TotalWorkingYears        2199.0     11.224193      7.896927      0.0      6.0   \n",
       "TrainingTimesLastYear    2205.0      2.798186      1.313616      0.0      2.0   \n",
       "YearsAtCompany           2205.0      7.078005      6.258446      0.0      3.0   \n",
       "YearsSinceLastPromotion  2205.0      2.225397      3.312585      0.0      0.0   \n",
       "YearsWithCurrManager     2205.0      4.156463      3.606622      0.0      2.0   \n",
       "Attrition                2205.0      0.161451      0.368030      0.0      0.0   \n",
       "\n",
       "                             50%      75%       max  \n",
       "Age                         35.0     42.0      60.0  \n",
       "DistanceFromHome             7.0     15.0      29.0  \n",
       "Education                    3.0      4.0       5.0  \n",
       "MonthlyIncome            48770.0  83460.0  199990.0  \n",
       "NumCompaniesWorked           2.0      4.0       9.0  \n",
       "PercentSalaryHike           14.0     18.0      25.0  \n",
       "StandardHours                8.0      8.0       8.0  \n",
       "StockOptionLevel             1.0      1.0       3.0  \n",
       "TotalWorkingYears           10.0     15.0      40.0  \n",
       "TrainingTimesLastYear        3.0      3.0       6.0  \n",
       "YearsAtCompany               5.0     10.0      40.0  \n",
       "YearsSinceLastPromotion      1.0      3.0      15.0  \n",
       "YearsWithCurrManager         3.0      7.0      17.0  \n",
       "Attrition                    0.0      0.0       1.0  "
      ]
     },
     "execution_count": 7,
     "metadata": {},
     "output_type": "execute_result"
    }
   ],
   "source": [
    "training_data = training_data[training_data.columns[1:]]\n",
    "training_data.describe().T"
   ]
  },
  {
   "cell_type": "code",
   "execution_count": 8,
   "metadata": {},
   "outputs": [
    {
     "name": "stdout",
     "output_type": "stream",
     "text": [
      "<class 'pandas.core.frame.DataFrame'>\n",
      "RangeIndex: 2205 entries, 0 to 2204\n",
      "Data columns (total 20 columns):\n",
      "Age                        2205 non-null int64\n",
      "BusinessTravel             2205 non-null object\n",
      "Department                 2205 non-null object\n",
      "DistanceFromHome           2205 non-null int64\n",
      "Education                  2205 non-null int64\n",
      "EducationField             2205 non-null object\n",
      "Gender                     2205 non-null object\n",
      "JobRole                    2205 non-null object\n",
      "MaritalStatus              2205 non-null object\n",
      "MonthlyIncome              2205 non-null int64\n",
      "NumCompaniesWorked         2194 non-null float64\n",
      "PercentSalaryHike          2205 non-null int64\n",
      "StandardHours              2205 non-null int64\n",
      "StockOptionLevel           2205 non-null int64\n",
      "TotalWorkingYears          2199 non-null float64\n",
      "TrainingTimesLastYear      2205 non-null int64\n",
      "YearsAtCompany             2205 non-null int64\n",
      "YearsSinceLastPromotion    2205 non-null int64\n",
      "YearsWithCurrManager       2205 non-null int64\n",
      "Attrition                  2205 non-null int64\n",
      "dtypes: float64(2), int64(12), object(6)\n",
      "memory usage: 344.6+ KB\n"
     ]
    }
   ],
   "source": [
    "training_data.info()"
   ]
  },
  {
   "cell_type": "code",
   "execution_count": 9,
   "metadata": {},
   "outputs": [
    {
     "data": {
      "text/plain": [
       "Age                           36.669841\n",
       "DistanceFromHome               9.409524\n",
       "Education                      2.895692\n",
       "MonthlyIncome              65151.972789\n",
       "NumCompaniesWorked             2.648587\n",
       "PercentSalaryHike             15.209524\n",
       "StandardHours                  8.000000\n",
       "StockOptionLevel               0.822222\n",
       "TotalWorkingYears             11.224193\n",
       "TrainingTimesLastYear          2.798186\n",
       "YearsAtCompany                 7.078005\n",
       "YearsSinceLastPromotion        2.225397\n",
       "YearsWithCurrManager           4.156463\n",
       "Attrition                      0.161451\n",
       "dtype: float64"
      ]
     },
     "execution_count": 9,
     "metadata": {},
     "output_type": "execute_result"
    }
   ],
   "source": [
    "train_mean = training_data.mean()\n",
    "train_mean"
   ]
  },
  {
   "cell_type": "code",
   "execution_count": 10,
   "metadata": {},
   "outputs": [],
   "source": [
    "# Filling the null values in training set with mean values\n",
    "training_data.fillna(train_mean, inplace=True)"
   ]
  },
  {
   "cell_type": "code",
   "execution_count": 11,
   "metadata": {},
   "outputs": [],
   "source": [
    "target_variable_name = 'Attrition'"
   ]
  },
  {
   "cell_type": "code",
   "execution_count": 12,
   "metadata": {},
   "outputs": [],
   "source": [
    "training_values = training_data[target_variable_name]"
   ]
  },
  {
   "cell_type": "code",
   "execution_count": 13,
   "metadata": {},
   "outputs": [],
   "source": [
    "training_points = training_data.drop(target_variable_name, axis=1)"
   ]
  },
  {
   "cell_type": "code",
   "execution_count": 14,
   "metadata": {},
   "outputs": [
    {
     "data": {
      "text/plain": [
       "(2205, 19)"
      ]
     },
     "execution_count": 14,
     "metadata": {},
     "output_type": "execute_result"
    }
   ],
   "source": [
    "training_points.shape"
   ]
  },
  {
   "cell_type": "code",
   "execution_count": 15,
   "metadata": {},
   "outputs": [],
   "source": [
    "test_data = pd.read_csv('test_data.csv')"
   ]
  },
  {
   "cell_type": "code",
   "execution_count": 16,
   "metadata": {},
   "outputs": [],
   "source": [
    "test_data = test_data.drop('Unnamed: 0', axis = 1)"
   ]
  },
  {
   "cell_type": "code",
   "execution_count": 17,
   "metadata": {},
   "outputs": [
    {
     "data": {
      "text/html": [
       "<div>\n",
       "<style scoped>\n",
       "    .dataframe tbody tr th:only-of-type {\n",
       "        vertical-align: middle;\n",
       "    }\n",
       "\n",
       "    .dataframe tbody tr th {\n",
       "        vertical-align: top;\n",
       "    }\n",
       "\n",
       "    .dataframe thead th {\n",
       "        text-align: right;\n",
       "    }\n",
       "</style>\n",
       "<table border=\"1\" class=\"dataframe\">\n",
       "  <thead>\n",
       "    <tr style=\"text-align: right;\">\n",
       "      <th></th>\n",
       "      <th>count</th>\n",
       "      <th>mean</th>\n",
       "      <th>std</th>\n",
       "      <th>min</th>\n",
       "      <th>25%</th>\n",
       "      <th>50%</th>\n",
       "      <th>75%</th>\n",
       "      <th>max</th>\n",
       "    </tr>\n",
       "  </thead>\n",
       "  <tbody>\n",
       "    <tr>\n",
       "      <th>index</th>\n",
       "      <td>2205.0</td>\n",
       "      <td>1102.000000</td>\n",
       "      <td>636.672993</td>\n",
       "      <td>0.0</td>\n",
       "      <td>551.0</td>\n",
       "      <td>1102.0</td>\n",
       "      <td>1653.0</td>\n",
       "      <td>2204.0</td>\n",
       "    </tr>\n",
       "    <tr>\n",
       "      <th>Age</th>\n",
       "      <td>2205.0</td>\n",
       "      <td>37.177778</td>\n",
       "      <td>9.182865</td>\n",
       "      <td>18.0</td>\n",
       "      <td>30.0</td>\n",
       "      <td>36.0</td>\n",
       "      <td>43.0</td>\n",
       "      <td>60.0</td>\n",
       "    </tr>\n",
       "    <tr>\n",
       "      <th>DistanceFromHome</th>\n",
       "      <td>2205.0</td>\n",
       "      <td>8.975510</td>\n",
       "      <td>8.071613</td>\n",
       "      <td>1.0</td>\n",
       "      <td>2.0</td>\n",
       "      <td>7.0</td>\n",
       "      <td>13.0</td>\n",
       "      <td>29.0</td>\n",
       "    </tr>\n",
       "    <tr>\n",
       "      <th>Education</th>\n",
       "      <td>2205.0</td>\n",
       "      <td>2.930159</td>\n",
       "      <td>1.001189</td>\n",
       "      <td>1.0</td>\n",
       "      <td>2.0</td>\n",
       "      <td>3.0</td>\n",
       "      <td>4.0</td>\n",
       "      <td>5.0</td>\n",
       "    </tr>\n",
       "    <tr>\n",
       "      <th>MonthlyIncome</th>\n",
       "      <td>2205.0</td>\n",
       "      <td>64906.653061</td>\n",
       "      <td>46427.509701</td>\n",
       "      <td>10090.0</td>\n",
       "      <td>29360.0</td>\n",
       "      <td>49600.0</td>\n",
       "      <td>83800.0</td>\n",
       "      <td>199990.0</td>\n",
       "    </tr>\n",
       "    <tr>\n",
       "      <th>NumCompaniesWorked</th>\n",
       "      <td>2197.0</td>\n",
       "      <td>2.741010</td>\n",
       "      <td>2.506606</td>\n",
       "      <td>0.0</td>\n",
       "      <td>1.0</td>\n",
       "      <td>2.0</td>\n",
       "      <td>4.0</td>\n",
       "      <td>9.0</td>\n",
       "    </tr>\n",
       "    <tr>\n",
       "      <th>PercentSalaryHike</th>\n",
       "      <td>2205.0</td>\n",
       "      <td>15.209524</td>\n",
       "      <td>3.680601</td>\n",
       "      <td>11.0</td>\n",
       "      <td>12.0</td>\n",
       "      <td>14.0</td>\n",
       "      <td>18.0</td>\n",
       "      <td>25.0</td>\n",
       "    </tr>\n",
       "    <tr>\n",
       "      <th>StandardHours</th>\n",
       "      <td>2205.0</td>\n",
       "      <td>8.000000</td>\n",
       "      <td>0.000000</td>\n",
       "      <td>8.0</td>\n",
       "      <td>8.0</td>\n",
       "      <td>8.0</td>\n",
       "      <td>8.0</td>\n",
       "      <td>8.0</td>\n",
       "    </tr>\n",
       "    <tr>\n",
       "      <th>StockOptionLevel</th>\n",
       "      <td>2205.0</td>\n",
       "      <td>0.765533</td>\n",
       "      <td>0.827658</td>\n",
       "      <td>0.0</td>\n",
       "      <td>0.0</td>\n",
       "      <td>1.0</td>\n",
       "      <td>1.0</td>\n",
       "      <td>3.0</td>\n",
       "    </tr>\n",
       "    <tr>\n",
       "      <th>TotalWorkingYears</th>\n",
       "      <td>2202.0</td>\n",
       "      <td>11.335604</td>\n",
       "      <td>7.667351</td>\n",
       "      <td>0.0</td>\n",
       "      <td>6.0</td>\n",
       "      <td>10.0</td>\n",
       "      <td>15.0</td>\n",
       "      <td>40.0</td>\n",
       "    </tr>\n",
       "    <tr>\n",
       "      <th>TrainingTimesLastYear</th>\n",
       "      <td>2205.0</td>\n",
       "      <td>2.800454</td>\n",
       "      <td>1.264157</td>\n",
       "      <td>0.0</td>\n",
       "      <td>2.0</td>\n",
       "      <td>3.0</td>\n",
       "      <td>3.0</td>\n",
       "      <td>6.0</td>\n",
       "    </tr>\n",
       "    <tr>\n",
       "      <th>YearsAtCompany</th>\n",
       "      <td>2205.0</td>\n",
       "      <td>6.938322</td>\n",
       "      <td>5.989465</td>\n",
       "      <td>0.0</td>\n",
       "      <td>3.0</td>\n",
       "      <td>5.0</td>\n",
       "      <td>9.0</td>\n",
       "      <td>40.0</td>\n",
       "    </tr>\n",
       "    <tr>\n",
       "      <th>YearsSinceLastPromotion</th>\n",
       "      <td>2205.0</td>\n",
       "      <td>2.150113</td>\n",
       "      <td>3.128474</td>\n",
       "      <td>0.0</td>\n",
       "      <td>0.0</td>\n",
       "      <td>1.0</td>\n",
       "      <td>3.0</td>\n",
       "      <td>15.0</td>\n",
       "    </tr>\n",
       "    <tr>\n",
       "      <th>YearsWithCurrManager</th>\n",
       "      <td>2205.0</td>\n",
       "      <td>4.089796</td>\n",
       "      <td>3.528097</td>\n",
       "      <td>0.0</td>\n",
       "      <td>2.0</td>\n",
       "      <td>3.0</td>\n",
       "      <td>7.0</td>\n",
       "      <td>17.0</td>\n",
       "    </tr>\n",
       "  </tbody>\n",
       "</table>\n",
       "</div>"
      ],
      "text/plain": [
       "                          count          mean           std      min      25%  \\\n",
       "index                    2205.0   1102.000000    636.672993      0.0    551.0   \n",
       "Age                      2205.0     37.177778      9.182865     18.0     30.0   \n",
       "DistanceFromHome         2205.0      8.975510      8.071613      1.0      2.0   \n",
       "Education                2205.0      2.930159      1.001189      1.0      2.0   \n",
       "MonthlyIncome            2205.0  64906.653061  46427.509701  10090.0  29360.0   \n",
       "NumCompaniesWorked       2197.0      2.741010      2.506606      0.0      1.0   \n",
       "PercentSalaryHike        2205.0     15.209524      3.680601     11.0     12.0   \n",
       "StandardHours            2205.0      8.000000      0.000000      8.0      8.0   \n",
       "StockOptionLevel         2205.0      0.765533      0.827658      0.0      0.0   \n",
       "TotalWorkingYears        2202.0     11.335604      7.667351      0.0      6.0   \n",
       "TrainingTimesLastYear    2205.0      2.800454      1.264157      0.0      2.0   \n",
       "YearsAtCompany           2205.0      6.938322      5.989465      0.0      3.0   \n",
       "YearsSinceLastPromotion  2205.0      2.150113      3.128474      0.0      0.0   \n",
       "YearsWithCurrManager     2205.0      4.089796      3.528097      0.0      2.0   \n",
       "\n",
       "                             50%      75%       max  \n",
       "index                     1102.0   1653.0    2204.0  \n",
       "Age                         36.0     43.0      60.0  \n",
       "DistanceFromHome             7.0     13.0      29.0  \n",
       "Education                    3.0      4.0       5.0  \n",
       "MonthlyIncome            49600.0  83800.0  199990.0  \n",
       "NumCompaniesWorked           2.0      4.0       9.0  \n",
       "PercentSalaryHike           14.0     18.0      25.0  \n",
       "StandardHours                8.0      8.0       8.0  \n",
       "StockOptionLevel             1.0      1.0       3.0  \n",
       "TotalWorkingYears           10.0     15.0      40.0  \n",
       "TrainingTimesLastYear        3.0      3.0       6.0  \n",
       "YearsAtCompany               5.0      9.0      40.0  \n",
       "YearsSinceLastPromotion      1.0      3.0      15.0  \n",
       "YearsWithCurrManager         3.0      7.0      17.0  "
      ]
     },
     "execution_count": 17,
     "metadata": {},
     "output_type": "execute_result"
    }
   ],
   "source": [
    "test_data.describe().T"
   ]
  },
  {
   "cell_type": "code",
   "execution_count": 18,
   "metadata": {},
   "outputs": [],
   "source": [
    "# Filling the null values in test set with mean values"
   ]
  },
  {
   "cell_type": "code",
   "execution_count": 19,
   "metadata": {},
   "outputs": [],
   "source": [
    "test_data.fillna(train_mean, inplace=True)"
   ]
  },
  {
   "cell_type": "code",
   "execution_count": 20,
   "metadata": {
    "scrolled": true
   },
   "outputs": [
    {
     "name": "stdout",
     "output_type": "stream",
     "text": [
      "<class 'pandas.core.frame.DataFrame'>\n",
      "RangeIndex: 2205 entries, 0 to 2204\n",
      "Data columns (total 20 columns):\n",
      "index                      2205 non-null int64\n",
      "Age                        2205 non-null int64\n",
      "BusinessTravel             2205 non-null object\n",
      "Department                 2205 non-null object\n",
      "DistanceFromHome           2205 non-null int64\n",
      "Education                  2205 non-null int64\n",
      "EducationField             2205 non-null object\n",
      "Gender                     2205 non-null object\n",
      "JobRole                    2205 non-null object\n",
      "MaritalStatus              2205 non-null object\n",
      "MonthlyIncome              2205 non-null int64\n",
      "NumCompaniesWorked         2205 non-null float64\n",
      "PercentSalaryHike          2205 non-null int64\n",
      "StandardHours              2205 non-null int64\n",
      "StockOptionLevel           2205 non-null int64\n",
      "TotalWorkingYears          2205 non-null float64\n",
      "TrainingTimesLastYear      2205 non-null int64\n",
      "YearsAtCompany             2205 non-null int64\n",
      "YearsSinceLastPromotion    2205 non-null int64\n",
      "YearsWithCurrManager       2205 non-null int64\n",
      "dtypes: float64(2), int64(12), object(6)\n",
      "memory usage: 344.6+ KB\n"
     ]
    }
   ],
   "source": [
    "test_data.info()"
   ]
  },
  {
   "cell_type": "code",
   "execution_count": 21,
   "metadata": {},
   "outputs": [],
   "source": [
    "test_points = test_data.drop('index', axis=1)"
   ]
  },
  {
   "cell_type": "code",
   "execution_count": null,
   "metadata": {},
   "outputs": [],
   "source": [
    "\n"
   ]
  },
  {
   "cell_type": "code",
   "execution_count": 22,
   "metadata": {},
   "outputs": [],
   "source": [
    "#test_points"
   ]
  },
  {
   "cell_type": "code",
   "execution_count": 23,
   "metadata": {},
   "outputs": [],
   "source": [
    "text_features = ['BusinessTravel', 'Department', 'EducationField', 'Gender', 'JobRole', 'MaritalStatus']"
   ]
  },
  {
   "cell_type": "code",
   "execution_count": 24,
   "metadata": {},
   "outputs": [],
   "source": [
    "label_encoder = LabelEncoder()"
   ]
  },
  {
   "cell_type": "code",
   "execution_count": 25,
   "metadata": {},
   "outputs": [],
   "source": [
    "for col in text_features:\n",
    "    training_points[col] = label_encoder.fit_transform(training_points[col]) + 1\n",
    "    test_points[col] = label_encoder.transform(test_points[col]) + 1"
   ]
  },
  {
   "cell_type": "code",
   "execution_count": 26,
   "metadata": {},
   "outputs": [],
   "source": []
  },
  {
   "cell_type": "code",
   "execution_count": 27,
   "metadata": {},
   "outputs": [
    {
     "data": {
      "image/png": "[encoded data removed]",
      "text/plain": [
       "<Figure size 842.4x595.44 with 2 Axes>"
      ]
     },
     "metadata": {
      "needs_background": "light"
     },
     "output_type": "display_data"
    }
   ],
   "source": [
    "#Checking for redundant data\n",
    "correlations = training_points.corr()\n",
    "fig, ax = plt.subplots()\n",
    "fig.set_size_inches(11.7, 8.27)\n",
    "sns.heatmap(correlations,cmap=\"YlGnBu\",ax=ax,linecolor='white',linewidths=1)\n",
    "fig.savefig(\"heatmap.png\")"
   ]
  },
  {
   "cell_type": "markdown",
   "metadata": {},
   "source": [
    "# Target Class Distribution"
   ]
  },
  {
   "cell_type": "code",
   "execution_count": 28,
   "metadata": {},
   "outputs": [
    {
     "data": {
      "text/html": [
       "<div>\n",
       "<style scoped>\n",
       "    .dataframe tbody tr th:only-of-type {\n",
       "        vertical-align: middle;\n",
       "    }\n",
       "\n",
       "    .dataframe tbody tr th {\n",
       "        vertical-align: top;\n",
       "    }\n",
       "\n",
       "    .dataframe thead th {\n",
       "        text-align: right;\n",
       "    }\n",
       "</style>\n",
       "<table border=\"1\" class=\"dataframe\">\n",
       "  <thead>\n",
       "    <tr style=\"text-align: right;\">\n",
       "      <th></th>\n",
       "      <th>index</th>\n",
       "      <th>Attrition</th>\n",
       "    </tr>\n",
       "  </thead>\n",
       "  <tbody>\n",
       "    <tr>\n",
       "      <th>0</th>\n",
       "      <td>0</td>\n",
       "      <td>1849</td>\n",
       "    </tr>\n",
       "    <tr>\n",
       "      <th>1</th>\n",
       "      <td>1</td>\n",
       "      <td>356</td>\n",
       "    </tr>\n",
       "  </tbody>\n",
       "</table>\n",
       "</div>"
      ],
      "text/plain": [
       "   index  Attrition\n",
       "0      0       1849\n",
       "1      1        356"
      ]
     },
     "execution_count": 28,
     "metadata": {},
     "output_type": "execute_result"
    }
   ],
   "source": [
    "dv = training_values.value_counts()\n",
    "dv = pd.DataFrame(dv)\n",
    "dv.reset_index(inplace = True)\n",
    "dv"
   ]
  },
  {
   "cell_type": "code",
   "execution_count": 29,
   "metadata": {},
   "outputs": [
    {
     "data": {
      "text/plain": [
       "<matplotlib.axes._subplots.AxesSubplot at 0x26e651074a8>"
      ]
     },
     "execution_count": 29,
     "metadata": {},
     "output_type": "execute_result"
    },
    {
     "data": {
      "image/png": "[encoded data removed]",
      "text/plain": [
       "<Figure size 432x288 with 1 Axes>"
      ]
     },
     "metadata": {
      "needs_background": "light"
     },
     "output_type": "display_data"
    }
   ],
   "source": [
    "sns.barplot(x = dv['index'],y = dv['Attrition'])"
   ]
  },
  {
   "cell_type": "markdown",
   "metadata": {},
   "source": [
    "# model deployment"
   ]
  },
  {
   "cell_type": "code",
   "execution_count": 70,
   "metadata": {},
   "outputs": [],
   "source": []
  },
  {
   "cell_type": "code",
   "execution_count": 76,
   "metadata": {},
   "outputs": [
    {
     "name": "stderr",
     "output_type": "stream",
     "text": [
      "C:\\Users\\Barun\\Anaconda3\\lib\\site-packages\\sklearn\\linear_model\\logistic.py:433: FutureWarning: Default solver will be changed to 'lbfgs' in 0.22. Specify a solver to silence this warning.\n",
      "  FutureWarning)\n"
     ]
    }
   ],
   "source": []
  },
  {
   "cell_type": "code",
   "execution_count": 47,
   "metadata": {},
   "outputs": [
    {
     "name": "stderr",
     "output_type": "stream",
     "text": [
      "C:\\Users\\Barun\\Anaconda3\\lib\\site-packages\\sklearn\\linear_model\\logistic.py:433: FutureWarning: Default solver will be changed to 'lbfgs' in 0.22. Specify a solver to silence this warning.\n",
      "  FutureWarning)\n"
     ]
    },
    {
     "data": {
      "text/plain": [
       "100.0"
      ]
     },
     "execution_count": 47,
     "metadata": {},
     "output_type": "execute_result"
    }
   ],
   "source": [
    "\n",
    "# Logistic Regression\n",
    "\n",
    "logreg = LogisticRegression()\n",
    "logreg.fit(training_points, training_values)\n",
    "test_values = logreg.predict(test_points)\n",
    "acc_log = round(logreg.score(test_points, test_values) * 100, 2)\n",
    "acc_log"
   ]
  },
  {
   "cell_type": "code",
   "execution_count": 48,
   "metadata": {},
   "outputs": [
    {
     "data": {
      "text/plain": [
       "86.35"
      ]
     },
     "execution_count": 48,
     "metadata": {},
     "output_type": "execute_result"
    }
   ],
   "source": [
    "# KNN\n",
    "\n",
    "knn = KNeighborsClassifier(n_neighbors = 3)\n",
    "knn.fit(training_points, training_values)\n",
    "Y_pred = knn.predict(test_points)\n",
    "acc_knn = round(knn.score(test_points, test_values) * 100, 2)\n",
    "acc_knn"
   ]
  },
  {
   "cell_type": "code",
   "execution_count": 49,
   "metadata": {},
   "outputs": [
    {
     "data": {
      "text/plain": [
       "87.8"
      ]
     },
     "execution_count": 49,
     "metadata": {},
     "output_type": "execute_result"
    }
   ],
   "source": [
    "# Gaussian Naive Bayes\n",
    "\n",
    "gaussian = GaussianNB()\n",
    "gaussian.fit(training_points, training_values)\n",
    "Y_pred = gaussian.predict(test_points)\n",
    "acc_gaussian = round(gaussian.score(test_points, test_values) * 100, 2)\n",
    "acc_gaussian"
   ]
  },
  {
   "cell_type": "code",
   "execution_count": 50,
   "metadata": {},
   "outputs": [
    {
     "data": {
      "text/plain": [
       "83.85"
      ]
     },
     "execution_count": 50,
     "metadata": {},
     "output_type": "execute_result"
    }
   ],
   "source": [
    "# Decision Tree\n",
    "\n",
    "decision_tree = DecisionTreeClassifier()\n",
    "decision_tree.fit(training_points, training_values)\n",
    "Y_pred = decision_tree.predict(test_points)\n",
    "acc_decision_tree = round(decision_tree.score(test_points, test_values) * 100, 2)\n",
    "acc_decision_tree"
   ]
  },
  {
   "cell_type": "code",
   "execution_count": 51,
   "metadata": {},
   "outputs": [
    {
     "data": {
      "text/html": [
       "<div>\n",
       "<style scoped>\n",
       "    .dataframe tbody tr th:only-of-type {\n",
       "        vertical-align: middle;\n",
       "    }\n",
       "\n",
       "    .dataframe tbody tr th {\n",
       "        vertical-align: top;\n",
       "    }\n",
       "\n",
       "    .dataframe thead th {\n",
       "        text-align: right;\n",
       "    }\n",
       "</style>\n",
       "<table border=\"1\" class=\"dataframe\">\n",
       "  <thead>\n",
       "    <tr style=\"text-align: right;\">\n",
       "      <th></th>\n",
       "      <th>Model</th>\n",
       "      <th>Score</th>\n",
       "    </tr>\n",
       "  </thead>\n",
       "  <tbody>\n",
       "    <tr>\n",
       "      <th>1</th>\n",
       "      <td>Logistic Regression</td>\n",
       "      <td>100.00</td>\n",
       "    </tr>\n",
       "    <tr>\n",
       "      <th>2</th>\n",
       "      <td>Naive Bayes</td>\n",
       "      <td>87.80</td>\n",
       "    </tr>\n",
       "    <tr>\n",
       "      <th>0</th>\n",
       "      <td>KNN</td>\n",
       "      <td>86.35</td>\n",
       "    </tr>\n",
       "    <tr>\n",
       "      <th>3</th>\n",
       "      <td>Decision Tree</td>\n",
       "      <td>83.85</td>\n",
       "    </tr>\n",
       "  </tbody>\n",
       "</table>\n",
       "</div>"
      ],
      "text/plain": [
       "                 Model   Score\n",
       "1  Logistic Regression  100.00\n",
       "2          Naive Bayes   87.80\n",
       "0                  KNN   86.35\n",
       "3        Decision Tree   83.85"
      ]
     },
     "execution_count": 51,
     "metadata": {},
     "output_type": "execute_result"
    }
   ],
   "source": [
    "models = pd.DataFrame({\n",
    "    'Model': ['KNN', 'Logistic Regression', 'Naive Bayes', 'Decision Tree'],\n",
    "    'Score': [ acc_knn, acc_log, acc_gaussian, acc_decision_tree]})\n",
    "models.sort_values(by='Score', ascending=False)"
   ]
  },
  {
   "cell_type": "code",
   "execution_count": null,
   "metadata": {},
   "outputs": [],
   "source": [
    "Logistic Regression is best based on confidence score"
   ]
  }
 ],
 "metadata": {
  "kernelspec": {
   "display_name": "Python 3",
   "language": "python",
   "name": "python3"
  },
  "language_info": {
   "codemirror_mode": {
    "name": "ipython",
    "version": 3
   },
   "file_extension": ".py",
   "mimetype": "text/x-python",
   "name": "python",
   "nbconvert_exporter": "python",
   "pygments_lexer": "ipython3",
   "version": "3.7.1"
  }
 },
 "nbformat": 4,
 "nbformat_minor": 2
}
